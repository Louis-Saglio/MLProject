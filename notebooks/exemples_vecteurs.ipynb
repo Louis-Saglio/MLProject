{
 "cells": [
  {
   "cell_type": "code",
   "execution_count": 1,
   "metadata": {},
   "outputs": [
    {
     "name": "stdout",
     "output_type": "stream",
     "text": [
      "Populating the interactive namespace from numpy and matplotlib\n"
     ]
    },
    {
     "name": "stderr",
     "output_type": "stream",
     "text": [
      "C:\\Users\\andrea.cortesi\\AppData\\Local\\Programs\\Python\\Python36\\lib\\site-packages\\statsmodels\\tools\\_testing.py:19: FutureWarning: pandas.util.testing is deprecated. Use the functions in the public API at pandas.testing instead.\n",
      "  import pandas.util.testing as tm\n"
     ]
    }
   ],
   "source": [
    "import matplotlib.pyplot as plt\n",
    "import numpy as np\n",
    "import seaborn as sns\n",
    "\n",
    "\n",
    "# Plot style\n",
    "from numpy.ma import sqrt\n",
    "sns.set()\n",
    "# %pylab inline\n",
    "# pylab.rcParams['figure.figsize'] = (4, 4)\n",
    "# Avoid inaccurate floating values (for inverse matrices in dot product for instance)\n",
    "# See https://stackoverflow.com/questions/24537791/numpy-matrix-inversion-rounding-errors\n",
    "np.set_printoptions(suppress=True)"
   ]
  },
  {
   "cell_type": "code",
   "execution_count": 2,
   "metadata": {},
   "outputs": [],
   "source": [
    "def plotVectors(vecs, cols, alpha=1):\n",
    "    \"\"\"\n",
    "    Plot set of vectors.\n",
    "\n",
    "    Parameters\n",
    "    ----------\n",
    "    vecs : array-like\n",
    "        Coordinates of the vectors to plot. Each vectors is in an array. For\n",
    "        instance: [[1, 3], [2, 2]] can be used to plot 2 vectors.\n",
    "    cols : array-like\n",
    "        Colors of the vectors. For instance: ['red', 'blue'] will display the\n",
    "        first vector in red and the second in blue.\n",
    "    alpha : float\n",
    "        Opacity of vectors\n",
    "\n",
    "    Returns:\n",
    "\n",
    "    fig : instance of matplotlib.figure.Figure\n",
    "        The figure of the vectors\n",
    "    \"\"\"\n",
    "    plt.figure()\n",
    "    plt.axvline(x=0, color='#A9A9A9', zorder=0)\n",
    "    plt.axhline(y=0, color='#A9A9A9', zorder=0)\n",
    "\n",
    "    for i in range(len(vecs)):\n",
    "        x = np.concatenate([[0,0],vecs[i]])\n",
    "        plt.quiver([x[0]],\n",
    "                   [x[1]],\n",
    "                   [x[2]],\n",
    "                   [x[3]],\n",
    "                   angles='xy', scale_units='xy', scale=1, color=cols[i],\n",
    "                   alpha=alpha)"
   ]
  },
  {
   "cell_type": "code",
   "execution_count": 10,
   "metadata": {},
   "outputs": [],
   "source": [
    "# initialisation vecteurs en tant que np.arrays colonne\n",
    "\n",
    "u=np.array([[3],[5]])\n",
    "v=np.array([[4],[2]])\n",
    "w=np.array([[5],[-3]])"
   ]
  },
  {
   "cell_type": "code",
   "execution_count": 13,
   "metadata": {},
   "outputs": [
    {
     "data": {
      "image/png": "[encoded data removed]",
      "text/plain": [
       "<Figure size 288x288 with 1 Axes>"
      ]
     },
     "metadata": {
      "needs_background": "light"
     },
     "output_type": "display_data"
    }
   ],
   "source": [
    "#plot\n",
    "\n",
    "plotVectors([u.flatten(), v.flatten(), w.flatten()], cols=['#1190FF', '#FF9A13',\"red\"])\n",
    "plt.axis('scaled')\n",
    "plt.ylim(-4, 6)\n",
    "plt.xlim(-1, 6)\n",
    "plt.grid(True)"
   ]
  },
  {
   "cell_type": "code",
   "execution_count": 16,
   "metadata": {},
   "outputs": [
    {
     "name": "stdout",
     "output_type": "stream",
     "text": [
      "u*v= 22\n",
      "u*w= 0\n"
     ]
    }
   ],
   "source": [
    "# produit scalaire\n",
    "\n",
    "res_uv = np.vdot(u,v)\n",
    "print(\"u*v=\",res_uv)\n",
    "\n",
    "res_uw = np.vdot(u,w)\n",
    "print(\"u*w=\",res_uw)\n"
   ]
  },
  {
   "cell_type": "code",
   "execution_count": 18,
   "metadata": {},
   "outputs": [
    {
     "name": "stdout",
     "output_type": "stream",
     "text": [
      "norme u= 5.830951894845301\n",
      "norme v= 4.47213595499958\n",
      "norme w= 5.830951894845301\n"
     ]
    }
   ],
   "source": [
    "# normes\n",
    "\n",
    "norme_u = sqrt(np.vdot(u,u))\n",
    "print(\"norme u=\",norme_u)\n",
    "\n",
    "norme_v = sqrt(np.vdot(v,v))\n",
    "print(\"norme v=\",norme_v)\n",
    "\n",
    "norme_w = sqrt(np.vdot(w,w))\n",
    "print(\"norme w=\",norme_w)"
   ]
  },
  {
   "cell_type": "code",
   "execution_count": 25,
   "metadata": {},
   "outputs": [
    {
     "name": "stdout",
     "output_type": "stream",
     "text": [
      "angle u,v [rad]= 0.5667292175235064\n",
      "angle u,v [deg]= 32.47119229084849\n",
      "\n",
      "\n",
      "angle u,w [rad]= 1.5707963267948966\n",
      "angle u,w [deg]= 90.0\n",
      "\n",
      "\n"
     ]
    }
   ],
   "source": [
    "# angle\n",
    "\n",
    "theta = np.arccos(res_uv/norme_u/norme_v)\n",
    "print(\"angle u,v [rad]=\", theta)\n",
    "print(\"angle u,v [deg]=\", theta*180/np.pi)\n",
    "print(\"\\n\")\n",
    "\n",
    "theta2 = np.arccos(res_uw/norme_u/norme_w)\n",
    "print(\"angle u,w [rad]=\", theta2)\n",
    "print(\"angle u,w [deg]=\", theta2*180/np.pi)\n",
    "print(\"\\n\")\n"
   ]
  },
  {
   "cell_type": "code",
   "execution_count": null,
   "metadata": {},
   "outputs": [],
   "source": []
  },
  {
   "cell_type": "code",
   "execution_count": null,
   "metadata": {},
   "outputs": [],
   "source": []
  },
  {
   "cell_type": "code",
   "execution_count": null,
   "metadata": {},
   "outputs": [],
   "source": []
  }
 ],
 "metadata": {
  "kernelspec": {
   "display_name": "Python 3",
   "language": "python",
   "name": "python3"
  },
  "language_info": {
   "codemirror_mode": {
    "name": "ipython",
    "version": 3
   },
   "file_extension": ".py",
   "mimetype": "text/x-python",
   "name": "python",
   "nbconvert_exporter": "python",
   "pygments_lexer": "ipython3",
   "version": "3.6.8"
  }
 },
 "nbformat": 4,
 "nbformat_minor": 2
}