{
 "cells": [
  {
   "cell_type": "code",
   "execution_count": 5,
   "metadata": {
    "collapsed": true,
    "pycharm": {
     "name": "#%%\n"
    }
   },
   "outputs": [
    {
     "name": "stdout",
     "output_type": "stream",
     "text": [
      "22\n"
     ]
    }
   ],
   "source": [
    "from typing import Tuple, List\n",
    "def produit_scalaire(a:tuple, b:tuple):\n",
    "  return sum([A * B for A, B in zip(a, b)])\n",
    "\n",
    "\n",
    "print(produit_scalaire((3, 5), (4, 2)))"
   ]
  },
  {
   "cell_type": "code",
   "execution_count": 12,
   "outputs": [
    {
     "data": {
      "text/plain": "[[-1, 1], [1, 5]]"
     },
     "execution_count": 12,
     "metadata": {},
     "output_type": "execute_result"
    }
   ],
   "source": [
    "def matmul(a: List[List[int]], b: List[List[int]]) -> List[List[int]]:\n",
    "  row_nbr, col_nbr = len(a), len(b[0])\n",
    "  assert row_nbr == col_nbr\n",
    "  answer = [[0 for _ in range(len(a))] for _ in range(len(b[0]))]\n",
    "  for index_row in range(row_nbr):\n",
    "    for index_col in range(col_nbr):\n",
    "      answer[index_row][index_col] = sum([a[index_row][i] * b[index_col][i] for i in range(row_nbr)])\n",
    "  return answer\n",
    "\n",
    "matmul(\n",
    "  [\n",
    "    [1, 2, 3, 4],\n",
    "    [1, 2, 3, 4],\n",
    "    [1, 2, 3, 4]\n",
    "  ],\n",
    "  [\n",
    "    [1, 2, 3],\n",
    "    [1, 2, 3],\n",
    "    [1, 2, 3],\n",
    "    [1, 2, 3]\n",
    "  ]\n",
    ")\n",
    "matmul(\n",
    "  [\n",
    "    [1, 0],\n",
    "    [1, 2],\n",
    "  ],\n",
    "  [\n",
    "    [-1, 1],\n",
    "    [1, 2],\n",
    "  ]\n",
    ")"
   ],
   "metadata": {
    "collapsed": false,
    "pycharm": {
     "name": "#%%\n"
    }
   }
  },
  {
   "cell_type": "code",
   "execution_count": null,
   "outputs": [],
   "source": [
    "def a(matrice1, matrice2):\n",
    "  [\n",
    "    [\n",
    "      sum([v1*v2 for v1, v2 in zip(line, [x[i] for x in matrice2])])\n",
    "      for i in range(len(matrice2[0]))\n",
    "    ] for line in matrice1\n",
    "  ]"
   ],
   "metadata": {
    "collapsed": false,
    "pycharm": {
     "name": "#%%\n"
    }
   }
  }
 ],
 "metadata": {
  "kernelspec": {
   "display_name": "Python 3",
   "language": "python",
   "name": "python3"
  },
  "language_info": {
   "codemirror_mode": {
    "name": "ipython",
    "version": 2
   },
   "file_extension": ".py",
   "mimetype": "text/x-python",
   "name": "python",
   "nbconvert_exporter": "python",
   "pygments_lexer": "ipython2",
   "version": "2.7.6"
  }
 },
 "nbformat": 4,
 "nbformat_minor": 0
}