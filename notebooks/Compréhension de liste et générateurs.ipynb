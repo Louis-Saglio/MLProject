{
 "cells": [
  {
   "cell_type": "code",
   "execution_count": 1,
   "metadata": {},
   "outputs": [],
   "source": [
    "import time"
   ]
  },
  {
   "cell_type": "markdown",
   "metadata": {},
   "source": [
    "## List comprehension"
   ]
  },
  {
   "cell_type": "markdown",
   "metadata": {},
   "source": [
    "Création d'une liste contenant les 10000 premiers carrés\n",
    "- methode naive :"
   ]
  },
  {
   "cell_type": "code",
   "execution_count": 39,
   "metadata": {},
   "outputs": [
    {
     "name": "stdout",
     "output_type": "stream",
     "text": [
      "temps d'execution moyen: 0.014960050582885742\n"
     ]
    }
   ],
   "source": [
    "start_time = time.time()\n",
    "\n",
    "my_list = list()\n",
    "for i in range(100000):\n",
    "    my_list.append(i*i)\n",
    "print(\"temps d'execution :\", (time.time()-start_time))"
   ]
  },
  {
   "cell_type": "markdown",
   "metadata": {},
   "source": [
    "On peut faire la même chose avec les compréhensions de liste:"
   ]
  },
  {
   "cell_type": "code",
   "execution_count": 40,
   "metadata": {},
   "outputs": [
    {
     "name": "stdout",
     "output_type": "stream",
     "text": [
      "temps d'execution moyen: 0.007013559341430664\n"
     ]
    }
   ],
   "source": [
    "start_time = time.time()\n",
    "# TODO\n",
    "print(\"temps d'execution :\", (time.time()-start_time))"
   ]
  },
  {
   "cell_type": "markdown",
   "metadata": {},
   "source": [
    "- Comprehension de liste avec plusieurs boucles"
   ]
  },
  {
   "cell_type": "code",
   "execution_count": 19,
   "metadata": {},
   "outputs": [
    {
     "name": "stdout",
     "output_type": "stream",
     "text": [
      "temps d'execution: 2.526283025741577\n"
     ]
    }
   ],
   "source": [
    "start_time = time.time()\n",
    "my_list = list()\n",
    "for j in range(1000):\n",
    "    for i in range(10000):\n",
    "        my_list.append(i*j)\n",
    "print(\"temps d'execution:\", (time.time()-start_time))"
   ]
  },
  {
   "cell_type": "code",
   "execution_count": 20,
   "metadata": {},
   "outputs": [
    {
     "name": "stdout",
     "output_type": "stream",
     "text": [
      "temps d'execution: 0.8567347526550293\n"
     ]
    }
   ],
   "source": [
    "start_time = time.time()\n",
    "# TODO\n",
    "print(\"temps d'execution:\", (time.time()-start_time))"
   ]
  },
  {
   "cell_type": "markdown",
   "metadata": {},
   "source": [
    "- Avec conditions"
   ]
  },
  {
   "cell_type": "code",
   "execution_count": 71,
   "metadata": {},
   "outputs": [
    {
     "name": "stdout",
     "output_type": "stream",
     "text": [
      "temps d'execution: 0.07380151748657227\n"
     ]
    }
   ],
   "source": [
    "start_time = time.time()\n",
    "\n",
    "my_list = list()\n",
    "for i in range(100000):\n",
    "    if i%2 == 0:\n",
    "        my_list.append(i*i)\n",
    "    else:\n",
    "        my_list.append(i+i)\n",
    "print(\"temps d'execution:\", (time.time()-start_time))"
   ]
  },
  {
   "cell_type": "code",
   "execution_count": 72,
   "metadata": {},
   "outputs": [
    {
     "name": "stdout",
     "output_type": "stream",
     "text": [
      "temps d'execution : 0.06482124328613281\n"
     ]
    }
   ],
   "source": [
    "start_time = time.time()\n",
    "# TODO\n",
    "print(\"temps d'execution :\", (time.time()-start_time))"
   ]
  },
  {
   "cell_type": "markdown",
   "metadata": {},
   "source": [
    "vérifions que les deux listes sont bien égales"
   ]
  },
  {
   "cell_type": "code",
   "execution_count": 56,
   "metadata": {},
   "outputs": [
    {
     "data": {
      "text/plain": [
       "True"
      ]
     },
     "execution_count": 56,
     "metadata": {},
     "output_type": "execute_result"
    }
   ],
   "source": [
    "my_list == my_list2"
   ]
  },
  {
   "cell_type": "markdown",
   "metadata": {},
   "source": [
    "- Gestion de conditions complexes.\n",
    "\n",
    "Remarque : il suffit d'ecrire les boucles dans le sens ou on l'ecrirait dans la methode naive "
   ]
  },
  {
   "cell_type": "code",
   "execution_count": 67,
   "metadata": {},
   "outputs": [
    {
     "name": "stdout",
     "output_type": "stream",
     "text": [
      "temps d'execution: 0.9794173240661621\n"
     ]
    }
   ],
   "source": [
    "start_time = time.time()\n",
    "my_list = list()\n",
    "for j in range(1000):\n",
    "    if j%2 == 0:\n",
    "        for i in range(10000):\n",
    "            if i>j:\n",
    "                my_list.append(i*j)\n",
    "            else:\n",
    "                my_list.append(\"Rien\")\n",
    "print(\"temps d'execution:\", (time.time()-start_time))"
   ]
  },
  {
   "cell_type": "code",
   "execution_count": 70,
   "metadata": {},
   "outputs": [
    {
     "name": "stdout",
     "output_type": "stream",
     "text": [
      "temps d'execution: 0.5186424255371094\n"
     ]
    }
   ],
   "source": [
    "start_time = time.time()\n",
    "# TODO\n",
    "print(\"temps d'execution:\", (time.time()-start_time))"
   ]
  },
  {
   "cell_type": "code",
   "execution_count": 64,
   "metadata": {},
   "outputs": [
    {
     "data": {
      "text/plain": [
       "True"
      ]
     },
     "execution_count": 64,
     "metadata": {},
     "output_type": "execute_result"
    }
   ],
   "source": [
    "my_list == my_list2"
   ]
  },
  {
   "cell_type": "markdown",
   "metadata": {},
   "source": [
    "Remarque : on ne peut utiliser le else qu'avant les boucles for"
   ]
  },
  {
   "cell_type": "markdown",
   "metadata": {},
   "source": [
    "# Les générateurs"
   ]
  },
  {
   "cell_type": "code",
   "execution_count": 112,
   "metadata": {},
   "outputs": [],
   "source": [
    "import numpy as np\n",
    "colonne_number = 15\n",
    "line_number = 10000\n",
    "data = np.random.randint(100,size=100000)\n",
    "\n",
    "def apply_generator(generator):\n",
    "    sum = 0\n",
    "    for batch in generator(data):\n",
    "        if sum == 0:\n",
    "            print(\"Valeur du premier batch :\", batch)\n",
    "        sum += 1\n",
    "    print(\"Echantillons délivrés par le générateurs : \", sum)"
   ]
  },
  {
   "cell_type": "markdown",
   "metadata": {},
   "source": [
    "- faire un générateur qui nous retourne les échantillons un par un"
   ]
  },
  {
   "cell_type": "code",
   "execution_count": 113,
   "metadata": {},
   "outputs": [],
   "source": [
    "def my_generator(data):\n",
    "    # TODO"
   ]
  },
  {
   "cell_type": "code",
   "execution_count": 114,
   "metadata": {},
   "outputs": [
    {
     "name": "stdout",
     "output_type": "stream",
     "text": [
      "Valeur du premier batch : 59\n",
      "Echantillons délivrés par le générateurs :  100000\n"
     ]
    }
   ],
   "source": [
    "apply_g enerator(my_generator)"
   ]
  },
  {
   "cell_type": "markdown",
   "metadata": {},
   "source": [
    "- faire un générateur qui nous retourne des batchs de 10 échantillons"
   ]
  },
  {
   "cell_type": "code",
   "execution_count": 115,
   "metadata": {},
   "outputs": [],
   "source": [
    "def my_generator(data):\n",
    "    # TODO"
   ]
  },
  {
   "cell_type": "code",
   "execution_count": 116,
   "metadata": {},
   "outputs": [
    {
     "name": "stdout",
     "output_type": "stream",
     "text": [
      "Valeur du premier batch : [59 58 23 38 58 55 13 58 94 48]\n",
      "Echantillons délivrés par le générateurs :  10000\n"
     ]
    }
   ],
   "source": [
    "apply_generator(my_generator)"
   ]
  },
  {
   "cell_type": "markdown",
   "metadata": {},
   "source": [
    "- faire un générateur qui nous retourne des batchs de 10 échantillons normalisés"
   ]
  },
  {
   "cell_type": "code",
   "execution_count": 117,
   "metadata": {},
   "outputs": [
    {
     "name": "stdout",
     "output_type": "stream",
     "text": [
      "Valeur du premier batch : [ 0.40638438  0.35913039 -1.29475955 -0.58594958  0.35913039  0.21736839\n",
      " -1.76729953  0.35913039  2.06027432 -0.1134096 ]\n",
      "Echantillons délivrés par le générateurs :  10000\n"
     ]
    }
   ],
   "source": [
    "def my_generator(data):\n",
    "    # TODO\n",
    "apply_generator(my_generator)"
   ]
  },
  {
   "cell_type": "code",
   "execution_count": null,
   "metadata": {},
   "outputs": [],
   "source": []
  }
 ],
 "metadata": {
  "kernelspec": {
   "display_name": "Python 3",
   "language": "python",
   "name": "python3"
  },
  "language_info": {
   "codemirror_mode": {
    "name": "ipython",
    "version": 3
   },
   "file_extension": ".py",
   "mimetype": "text/x-python",
   "name": "python",
   "nbconvert_exporter": "python",
   "pygments_lexer": "ipython3",
   "version": "3.6.8"
  }
 },
 "nbformat": 4,
 "nbformat_minor": 4
}