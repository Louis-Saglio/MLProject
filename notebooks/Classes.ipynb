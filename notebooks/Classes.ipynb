{
 "cells": [
  {
   "cell_type": "markdown",
   "metadata": {},
   "source": [
    "# Classes et héritage"
   ]
  },
  {
   "cell_type": "markdown",
   "metadata": {},
   "source": [
    "## Heritage simple"
   ]
  },
  {
   "cell_type": "markdown",
   "metadata": {},
   "source": [
    "- Créer une classe ModelUn  retournant une constante fixée lors de l'initialisation"
   ]
  },
  {
   "cell_type": "code",
   "execution_count": 1,
   "metadata": {},
   "outputs": [],
   "source": [
    "import numpy as np\n",
    "\n",
    "class ModelUn():\n",
    "    def __init__(self, init_val:int = 42) -> None:\n",
    "        # TODO\n",
    "        print(\"Model 1 initialisation\")\n",
    "        \n",
    "    def predict(self, X:np.ndarray) -> int:\n",
    "        print(\"Model 1  prediction\")\n",
    "        return # TODO"
   ]
  },
  {
   "cell_type": "code",
   "execution_count": null,
   "metadata": {},
   "outputs": [],
   "source": [
    "clf = ModelUn(43)\n",
    "print(\"prediction : \",clf.predict(1))"
   ]
  },
  {
   "cell_type": "markdown",
   "metadata": {},
   "source": [
    "remarque : la notation ci dessous est équivalente"
   ]
  },
  {
   "cell_type": "code",
   "execution_count": null,
   "metadata": {},
   "outputs": [],
   "source": [
    "print(\"prediction : \",ModelUn.predict(clf,1))"
   ]
  },
  {
   "cell_type": "markdown",
   "metadata": {},
   "source": [
    "- On souhaite étendre le comportement de la classe ModelUn pour un nouveau projet, sans modifier le code de l'existant. créer une seconde classe héritant de la premiere, stockant un entier supplémentaire lors de l'initilisation, et retournant la liste des deux entiers. \n",
    "\n",
    "Cette méthode appelle les méthodes du père, et complete leur comportement"
   ]
  },
  {
   "cell_type": "code",
   "execution_count": null,
   "metadata": {},
   "outputs": [],
   "source": [
    "class ModelDeux(ModelUn):\n",
    "    def __init__(self, init_val:int = 42, ini_val2:int=43) -> None:\n",
    "        print(\"Model 2 initialisation\")\n",
    "        # TODO\n",
    "        \n",
    "    def predict(self, X:np.ndarray) -> int:\n",
    "        print(\"Model 2 prediction\")\n",
    "        # TODO"
   ]
  },
  {
   "cell_type": "code",
   "execution_count": null,
   "metadata": {},
   "outputs": [],
   "source": [
    "clf = ModelDeux(1,2)\n",
    "print(\"--------\")\n",
    "clf.predict(1)"
   ]
  },
  {
   "cell_type": "markdown",
   "metadata": {},
   "source": [
    "Remarque :\n",
    "- super n'appelle pas le parent ! (pas toujours)\n",
    "- super().predict(X) et ModelUn.predict(self, X) ont le meme effet dans l'exemple precedent\n",
    "- les deux ne sont pas completement equivalent : la premiere laisse python trouver quelle est la methode, tandis que la deuxieme l'impose"
   ]
  },
  {
   "cell_type": "markdown",
   "metadata": {},
   "source": [
    "## Heritage multiple"
   ]
  },
  {
   "cell_type": "markdown",
   "metadata": {},
   "source": [
    "- On souhaite rajouter un entrainement sans modifier la classe existante. Le modèle stocke la valeur lue lors de l'entrainement, et la rajoute à la liste de la méthode prédict. On dispose déjà d'une classe faisant une partie du comportement décrite ci dessous :"
   ]
  },
  {
   "cell_type": "code",
   "execution_count": null,
   "metadata": {},
   "outputs": [],
   "source": [
    "class ModelTrois(ModelUn):       \n",
    "    def fit(self, X:int) -> None:\n",
    "        print(\"model 3 fit\")\n",
    "        # TODO\n",
    "            \n",
    "    def predict(self, X:np.ndarray) -> int:\n",
    "        print(\"model 3 prediction\")\n",
    "        first_value = # TODO\n",
    "        return [first_value, self.learnt_value]"
   ]
  },
  {
   "cell_type": "code",
   "execution_count": null,
   "metadata": {},
   "outputs": [],
   "source": [
    "clf = ModelTrois(3)\n",
    "print(\"--------\")\n",
    "clf.fit(2)\n",
    "print(\"--------\")\n",
    "clf.predict(1)"
   ]
  },
  {
   "cell_type": "markdown",
   "metadata": {},
   "source": [
    "- HOUSTON, WE HAVE A PROBLEM"
   ]
  },
  {
   "cell_type": "code",
   "execution_count": null,
   "metadata": {},
   "outputs": [],
   "source": [
    "class ModelQuatre(ModelDeux,ModelTrois):\n",
    "    None"
   ]
  },
  {
   "cell_type": "code",
   "execution_count": null,
   "metadata": {},
   "outputs": [],
   "source": [
    "clf = ModelQuatre(33,34)\n",
    "print(\"--------\")\n",
    "clf.fit(2)\n",
    "print(\"--------\")\n",
    "clf.predict(3)"
   ]
  },
  {
   "cell_type": "markdown",
   "metadata": {},
   "source": [
    "La méthode predict() de model2 appelle en fait predict() de model3\n",
    "Comment cela ce fait ?\n",
    "- super sélectionne la classe appeler en fonction d'un ordre prédefini, le MRO (multiple resolution order)\n",
    "- pour une classe, le MRO est déterminé par le type de l'instance, ici toujours celui de ModelQuatre"
   ]
  },
  {
   "cell_type": "markdown",
   "metadata": {},
   "source": [
    "- en python, on peut afficher le mro de chaque classe :"
   ]
  },
  {
   "cell_type": "code",
   "execution_count": null,
   "metadata": {},
   "outputs": [],
   "source": [
    "ModelQuatre.__mro__"
   ]
  },
  {
   "cell_type": "markdown",
   "metadata": {},
   "source": [
    "La méthode super en vrai:\n",
    "- super() est en fait super(ModelQuatre, self)\n",
    "- le premier paramètre indique où on est dans le mro, le deuxieme l'objet auquel prendre le mro\n",
    "- si le deuxieme parametre est une instance, on peut appeler predict(X).\n",
    "- si le deuxieme parametre est une classe, il faut appeler predict(self,X)"
   ]
  },
  {
   "cell_type": "markdown",
   "metadata": {},
   "source": [
    "Exemples :\n",
    "- super(MySecondModel, self).predict(X) va choisir la méthode de MyThirdModel\n",
    "- super(MySecondModel, MySecondModel).predict(self, X) va appeler A, car se place dans MySecondModel mais appelle le mro de MySecondModel"
   ]
  },
  {
   "cell_type": "markdown",
   "metadata": {},
   "source": [
    "- ce n'est pas le comportement que l'on veut. Comment faire pour appeler d'un côté le modele 2 qui appelle 1, et de l'autre le modele 3 qui appelle le 1?"
   ]
  },
  {
   "cell_type": "markdown",
   "metadata": {},
   "source": [
    "Solution : Changer le code de model2 pour ne pas laisser à super() le choix (ne pas le laisser appeler le mro de self) pour resoudre le nom :"
   ]
  },
  {
   "cell_type": "code",
   "execution_count": null,
   "metadata": {},
   "outputs": [],
   "source": [
    "class ModelDeux(ModelUn):\n",
    "    def __init__(self, init_val:int = 42, ini_val2:int=43) -> None:\n",
    "        self.prediction_value2 = ini_val2\n",
    "        print(\"Model 2 initialisation\")\n",
    "        super().__init__(init_val)\n",
    "        \n",
    "    def predict(self, X:np.ndarray) -> int:\n",
    "        print(\"Model 2 prediction\")\n",
    "        first_value = # TODO\n",
    "        # ligne equivalente : first_value = ModelUn.predict(self, X)\n",
    "        return [first_value, self.prediction_value2]"
   ]
  },
  {
   "cell_type": "code",
   "execution_count": null,
   "metadata": {},
   "outputs": [],
   "source": [
    "class ModelQuatre(ModelDeux, ModelTrois):\n",
    "    def predict(self, X):\n",
    "        res_model3 = # TODO # appelle 3 car le suivant selon le mro de self lorsque l'on est dans ModelDeux\n",
    "        print(\"Appel de model 3 terminé\")\n",
    "        res_model2 = # TODO # fait passer self pour une instance de ModelDeux, le mro appelé \n",
    "        return res_model3+res_model2"
   ]
  },
  {
   "cell_type": "code",
   "execution_count": null,
   "metadata": {},
   "outputs": [],
   "source": [
    "clf = ModelQuatre(33,34)\n",
    "print(\"--------\")\n",
    "clf.fit(2)\n",
    "print(\"--------\")\n",
    "clf.predict(3)"
   ]
  },
  {
   "cell_type": "markdown",
   "metadata": {},
   "source": [
    "## La morale :\n",
    "- Ne jamais utiliser super() en dehors du constructeur sauf si vous savez vraiment pourquoi c'est nécessaire. Préferez ClassParent.method(self, params)\n",
    "- Toujours appeler super() dans le constructeur, de façon à ce que le constructeur de chaque classe ne soit appelé qu'une fois\n",
    "- si vous voulez plus d'infos, super article (en anglais) https://fuhm.net/super-harmful/"
   ]
  },
  {
   "cell_type": "markdown",
   "metadata": {},
   "source": [
    "# Héritage dynamique"
   ]
  },
  {
   "cell_type": "markdown",
   "metadata": {},
   "source": [
    "Probleme : je veux créer une classe modele5, qui peut hériter soit de modele 1 soit de modele 2, et rajouter une méthode fit. Comment faire ?\n",
    "- probleme courant quand on crée nos experiences en fonction de fichier de configurations.\n",
    "Solution : constuire une méthode qui construit la classe en fonction de la classe parente demandée"
   ]
  },
  {
   "cell_type": "code",
   "execution_count": null,
   "metadata": {},
   "outputs": [],
   "source": [
    "def model_5_builder(parent_class):\n",
    "    # TODO\n",
    "    return Model5"
   ]
  },
  {
   "cell_type": "code",
   "execution_count": null,
   "metadata": {},
   "outputs": [],
   "source": [
    "print(\"---------- Instance with model 1 parent ------\")\n",
    "clf = model_5_builder(ModelUn)(33)\n",
    "print(\"--------\")\n",
    "clf.fit(2)\n",
    "print(\"--------\")\n",
    "clf.predict(3)\n",
    "\n",
    "print(\"-------- Instance with model 2 parent --------\")\n",
    "clf = model_5_builder(ModelDeux)(33,34)\n",
    "print(\"--------\")\n",
    "clf.fit(2)\n",
    "print(\"--------\")\n",
    "clf.predict(3)"
   ]
  },
  {
   "cell_type": "markdown",
   "metadata": {},
   "source": [
    "# Paramètres dynamiques"
   ]
  },
  {
   "cell_type": "markdown",
   "metadata": {},
   "source": [
    "Probleme : comment faire une méthode qui peut accepter un nombre variable de paramètre ?\n",
    "- probleme recurrent lorsque l'on fait des experiences decrites par des fichiers\n",
    "- bonnes pratique pour ne pas avoir a modifier un code si on sait que le nom ou quantité de parametres change tout le temps.\n",
    "- souvent necessaire pour la methode init pour quelle soit compatible avec super()"
   ]
  },
  {
   "cell_type": "code",
   "execution_count": null,
   "metadata": {},
   "outputs": [],
   "source": [
    "def my_method():\n",
    "    # TODO"
   ]
  },
  {
   "cell_type": "code",
   "execution_count": null,
   "metadata": {},
   "outputs": [],
   "source": [
    "my_method(deux=2, trois=3, quaranteDeux = 'toto')"
   ]
  },
  {
   "cell_type": "markdown",
   "metadata": {},
   "source": [
    "- Comment faire pour stocker dynamiquement un nombre de parametre variable dans l'init d'une classe ?"
   ]
  },
  {
   "cell_type": "code",
   "execution_count": null,
   "metadata": {},
   "outputs": [],
   "source": [
    "class DynClass():\n",
    "    def __init__(self, **args):\n",
    "        # TODO"
   ]
  },
  {
   "cell_type": "code",
   "execution_count": null,
   "metadata": {},
   "outputs": [],
   "source": [
    "my_cls = DynClass(deux=2, trois=3, quaranteDeux = 'toto')\n",
    "my_cls.trois"
   ]
  },
  {
   "cell_type": "markdown",
   "metadata": {},
   "source": [
    "Les classes en python fonctionnent en fait avec un dictionnaire qui contient tous leur parametres "
   ]
  },
  {
   "cell_type": "code",
   "execution_count": null,
   "metadata": {},
   "outputs": [],
   "source": [
    "my_cls.__dict__"
   ]
  },
  {
   "cell_type": "markdown",
   "metadata": {},
   "source": [
    "# Bonus : les methodes particulières"
   ]
  },
  {
   "cell_type": "markdown",
   "metadata": {},
   "source": [
    "- print personalisé des classes, plus utile pour le debugage :"
   ]
  },
  {
   "cell_type": "code",
   "execution_count": null,
   "metadata": {},
   "outputs": [],
   "source": [
    "my_cls = DynClass(deux=2, trois=3, quaranteDeux = 'toto')\n",
    "print(my_cls)"
   ]
  },
  {
   "cell_type": "code",
   "execution_count": null,
   "metadata": {},
   "outputs": [],
   "source": [
    "my_cls"
   ]
  },
  {
   "cell_type": "markdown",
   "metadata": {},
   "source": [
    "Cela ne nous apporte pas beaucoup d'information ! __repr__ et __str__ peuvent nous permettrent d'afficher des informations pertinentes à la place"
   ]
  },
  {
   "cell_type": "code",
   "execution_count": null,
   "metadata": {},
   "outputs": [],
   "source": [
    "class DynClass():\n",
    "    def __init__(self, **args):\n",
    "        for key, value in args.items():\n",
    "            self.__dict__[key]=value\n",
    "        self.static_param = 4\n",
    "    \n",
    "    def __repr__(self):\n",
    "        res = ''\n",
    "        for param, value in self.__dict__.items():\n",
    "            res += \"Param \"+ param +\" : \"+str(value)+'\\n'\n",
    "        return res\n",
    "    \n",
    "    def __str__(self):\n",
    "        return \"What a nice \"+self.__class__.__name__+ \" with \"+str(len(self.__dict__.keys()))+' parameters !'"
   ]
  },
  {
   "cell_type": "code",
   "execution_count": null,
   "metadata": {},
   "outputs": [],
   "source": [
    "my_cls = DynClass(deux=2, trois=3, quaranteDeux = 'toto')\n",
    "print(my_cls)"
   ]
  },
  {
   "cell_type": "code",
   "execution_count": null,
   "metadata": {},
   "outputs": [],
   "source": [
    "my_cls"
   ]
  },
  {
   "cell_type": "code",
   "execution_count": null,
   "metadata": {},
   "outputs": [],
   "source": []
  }
 ],
 "metadata": {
  "kernelspec": {
   "display_name": "Python 3",
   "language": "python",
   "name": "python3"
  },
  "language_info": {
   "codemirror_mode": {
    "name": "ipython",
    "version": 3
   },
   "file_extension": ".py",
   "mimetype": "text/x-python",
   "name": "python",
   "nbconvert_exporter": "python",
   "pygments_lexer": "ipython3",
   "version": "3.6.8"
  }
 },
 "nbformat": 4,
 "nbformat_minor": 4
}